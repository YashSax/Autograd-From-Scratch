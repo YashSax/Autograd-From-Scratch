{
 "cells": [
  {
   "cell_type": "code",
   "execution_count": 3,
   "metadata": {},
   "outputs": [],
   "source": [
    "from network import *\n",
    "import numpy as np"
   ]
  },
  {
   "cell_type": "markdown",
   "metadata": {},
   "source": [
    "We're going to be training an incredibly simple neural network where the model learns to predict the `sin` function in the range [-2 * pi, 2 * pi]"
   ]
  },
  {
   "cell_type": "code",
   "execution_count": 5,
   "metadata": {},
   "outputs": [],
   "source": [
    "def generate_training_example():\n",
    "    model_in = np.random.uniform(low=-10, high=10, size=(1, 1))\n",
    "    model_out = np.sin(model_in)\n",
    "    return model_in, model_out"
   ]
  },
  {
   "cell_type": "code",
   "execution_count": 7,
   "metadata": {},
   "outputs": [
    {
     "data": {
      "text/plain": [
       "array([-2.96229899])"
      ]
     },
     "execution_count": 7,
     "metadata": {},
     "output_type": "execute_result"
    }
   ],
   "source": [
    "model_in, model_out = generate_training_example()\n",
    "\n",
    "model = Sequential([\n",
    "    Layer(1, 5),\n",
    "    ReLU(),\n",
    "    Layer(5, 5),\n",
    "    ReLU(),\n",
    "    Layer(5, 1)\n",
    "],\n",
    "criterion=MSELoss())\n",
    "\n",
    "model.forward(model_in)\n",
    "model.calculate_loss()"
   ]
  }
 ],
 "metadata": {
  "kernelspec": {
   "display_name": "Python 3",
   "language": "python",
   "name": "python3"
  },
  "language_info": {
   "codemirror_mode": {
    "name": "ipython",
    "version": 3
   },
   "file_extension": ".py",
   "mimetype": "text/x-python",
   "name": "python",
   "nbconvert_exporter": "python",
   "pygments_lexer": "ipython3",
   "version": "3.9.13"
  }
 },
 "nbformat": 4,
 "nbformat_minor": 2
}
