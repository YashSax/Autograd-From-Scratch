{
 "cells": [
  {
   "cell_type": "code",
   "execution_count": 1,
   "metadata": {},
   "outputs": [],
   "source": [
    "from network import *\n",
    "import numpy as np\n",
    "import random\n",
    "import matplotlib.pyplot as plt"
   ]
  },
  {
   "cell_type": "markdown",
   "metadata": {},
   "source": [
    "We're going to be training an incredibly simple neural network where the model learns to predict the linear function y = m*x + b"
   ]
  },
  {
   "cell_type": "code",
   "execution_count": 2,
   "metadata": {},
   "outputs": [],
   "source": [
    "m = 2\n",
    "b = 1\n",
    "def generate_training_example():\n",
    "    model_in = np.random.randint(low=-10, high=10, size=(1, 1))\n",
    "    model_out = m * model_in + b # np.sin(model_in)\n",
    "    return model_in, model_out[0]"
   ]
  },
  {
   "cell_type": "code",
   "execution_count": 3,
   "metadata": {},
   "outputs": [],
   "source": [
    "model = Sequential([\n",
    "    Layer(1, 1)\n",
    "],\n",
    "criterion=MSELoss())"
   ]
  },
  {
   "cell_type": "code",
   "execution_count": 4,
   "metadata": {},
   "outputs": [],
   "source": [
    "data = [generate_training_example() for _ in range(100)]"
   ]
  },
  {
   "cell_type": "code",
   "execution_count": 5,
   "metadata": {},
   "outputs": [],
   "source": [
    "losses = []\n",
    "for _ in range(100):\n",
    "    model_in, model_out = random.choice(data)\n",
    "    # print(\"X:\", model_in, \" Y:\", model_out)\n",
    "    # print(\"Current weights:\", model.modules[0].weights)\n",
    "    pred_out = model.forward(model_in)\n",
    "    # print(\"Predicted:\", pred_out)\n",
    "    loss = model.calculate_loss(model_out, pred_out)\n",
    "    losses.append(loss)\n",
    "    # print(\"Loss:\", loss)\n",
    "    model.backward()\n",
    "    # print(\"Gradients:\", model.modules[0].grad)\n",
    "    model.SGD_step(alpha=0.01)\n",
    "    # print(\"New weights:\", model.modules[0].weights)"
   ]
  },
  {
   "cell_type": "code",
   "execution_count": 6,
   "metadata": {},
   "outputs": [
    {
     "data": {
      "text/plain": [
       "[<matplotlib.lines.Line2D at 0x273b665bd60>]"
      ]
     },
     "execution_count": 6,
     "metadata": {},
     "output_type": "execute_result"
    },
    {
     "data": {
      "image/png": "[encoded data removed]",
      "text/plain": [
       "<Figure size 432x288 with 1 Axes>"
      ]
     },
     "metadata": {
      "needs_background": "light"
     },
     "output_type": "display_data"
    }
   ],
   "source": [
    "plt.plot(range(len(losses)), losses)"
   ]
  },
  {
   "cell_type": "code",
   "execution_count": null,
   "metadata": {},
   "outputs": [],
   "source": []
  }
 ],
 "metadata": {
  "kernelspec": {
   "display_name": "Python 3",
   "language": "python",
   "name": "python3"
  },
  "language_info": {
   "codemirror_mode": {
    "name": "ipython",
    "version": 3
   },
   "file_extension": ".py",
   "mimetype": "text/x-python",
   "name": "python",
   "nbconvert_exporter": "python",
   "pygments_lexer": "ipython3",
   "version": "3.9.13"
  }
 },
 "nbformat": 4,
 "nbformat_minor": 2
}
